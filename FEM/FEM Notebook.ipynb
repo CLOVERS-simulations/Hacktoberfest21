{
 "cells": [
  {
   "cell_type": "markdown",
   "metadata": {},
   "source": [
    "## FEM for the clover "
   ]
  },
  {
   "cell_type": "code",
   "execution_count": 51,
   "metadata": {},
   "outputs": [],
   "source": [
    "from ngsolve import *\n",
    "from netgen.read_gmsh import ReadGmsh\n",
    "from netgen.csg import *\n",
    "import numpy as np\n",
    "import meshio\n",
    "import scipy.special as sc\n",
    "import scipy.sparse as sp\n",
    "import scipy.sparse.linalg as la\n",
    "import matplotlib.pyplot as plt"
   ]
  },
  {
   "cell_type": "code",
   "execution_count": 54,
   "metadata": {},
   "outputs": [],
   "source": [
    "#create mesh\n",
    "mesh = Mesh(ReadGmsh(\"clover_mesh.msh\"))\n",
    "mesh2=meshio.read(\"clover_mesh.msh\")"
   ]
  },
  {
   "cell_type": "code",
   "execution_count": 49,
   "metadata": {},
   "outputs": [],
   "source": [
    "List_of_mats = ['metal', 'vacuum']\n",
    "hankel = lambda n, k : sc.hankel1(n,k)\n",
    "dhankel = lambda n, k : sc.h1vp(n,k,1)"
   ]
  },
  {
   "cell_type": "code",
   "execution_count": 50,
   "metadata": {},
   "outputs": [],
   "source": [
    "def ngvec_to_vec(vector):\n",
    "    returnvec=np.zeros(vector.size,dtype='complex')\n",
    "    for i in range(0,vector.size):\n",
    "        returnvec[i]=vector.data[i]\n",
    "    return returnvec"
   ]
  },
  {
   "cell_type": "code",
   "execution_count": 42,
   "metadata": {},
   "outputs": [],
   "source": [
    "def vec_to_ngvec(vec,ngvec):\n",
    "    for i in range(0,vec.size):\n",
    "        ngvec.data[i]=vec[i]"
   ]
  },
  {
   "cell_type": "code",
   "execution_count": 6,
   "metadata": {},
   "outputs": [],
   "source": [
    "#convert ngsolve solution to vector\n",
    "def ConvertSolutiononMesh(mesh,meshpts,gfu):\n",
    "    soln = np.zeros(meshpts.shape[0],dtype='complex')\n",
    "    for i in range(0,meshpts.shape[0]):\n",
    "        soln[i] = gfu(mesh(meshpts[i,0],meshpts[i,1],meshpts[i,2]))\n",
    "    return soln"
   ]
  },
  {
   "cell_type": "code",
   "execution_count": 20,
   "metadata": {},
   "outputs": [],
   "source": [
    "def FEM(epsm,order,k,DtN_tol):\n",
    "    R=3\n",
    "    #define epsilon parameter\n",
    "    epsv=1\n",
    "    eps_val={'metal' : epsm, 'vacuum' : epsv}\n",
    "    eps=CoefficientFunction([eps_val[mat] for mat in List_of_mats])\n",
    "    epsinv_val = {'metal' : 1/epsm, 'vacuum' : 1/epsv}\n",
    "    epsinv=CoefficientFunction([epsinv_val[mat] for mat in List_of_mats])\n",
    "    \n",
    "    #create finite element space\n",
    "    fes = H1(mesh, order=order, complex=True)\n",
    "   \n",
    "    #define incident field\n",
    "    Inc = CoefficientFunction(exp(1j*k*y))\n",
    "    diff_Inc_x = Inc.Diff(x)\n",
    "    diff_Inc_y = Inc.Diff(y)\n",
    "    IncNormDrv = CoefficientFunction((1/sqrt(x*x+y*y))*(x*diff_Inc_x+y*diff_Inc_y))\n",
    "    \n",
    "    #prepare and populate linear/bilinear forms\n",
    "    u, v = fes.TnT()\n",
    "    a = BilinearForm(fes)\n",
    "    f = LinearForm(fes)\n",
    "    a += (-1*epsinv*(grad(u)*grad(v)))*dx\n",
    "    a += (k**2*u*v)*dx\n",
    "    ginc = (1/epsv)*(-1*IncNormDrv)\n",
    "    f += (ginc*v)*ds('Boundary')\n",
    "    \n",
    "    #create DtN\n",
    "    dtn1_array= np.zeros([2*DtN_tol+1],dtype='object')\n",
    "    dtn_mat=sp.csr_matrix(np.zeros([fes.ndof,fes.ndof],dtype=\"complex\"))\n",
    "    ulminc_mat=np.zeros([2*DtN_tol+1],dtype=\"complex\")\n",
    "    ulm_mat=np.zeros([2*DtN_tol+1],dtype=\"complex\")\n",
    "    const_mat=np.zeros([2*DtN_tol+1],dtype='complex')     \n",
    "    rhs_array=np.zeros([fes.ndof],dtype='complex')\n",
    "    #print(\"Creating dtn matrices\")\n",
    "    \n",
    "    for l in range(-DtN_tol,DtN_tol+1):\n",
    "        ulminc_mat[l+DtN_tol] = Integrate(Inc*Conj(exp(1j*l*atan2(y,x))),mesh,definedon=mesh.Boundaries(\"Boundary\"))\n",
    "        \n",
    "        #create matching constant for dtn expansion\n",
    "        const_mat[l+DtN_tol]=k*(dhankel(np.abs(l),k*R)/hankel(np.abs(l),k*R))\n",
    "                    \n",
    "        #create vector associated with v - dtn applied to all phi\n",
    "        \n",
    "        dtn1_array[l+DtN_tol]= LinearForm(fes)\n",
    "        dtn1_array[l+DtN_tol]+=(v*Conj(exp(1j*l*atan2(y,x))))*ds('Boundary')\n",
    "        dtn1_array[l+DtN_tol].Assemble()\n",
    "        #Right hand side - dtn applied to incident field\n",
    "        #constant*u^inc_lm*v_lm\n",
    "        rhs_array += const_mat[l+DtN_tol]*ulminc_mat[l+DtN_tol]*np.conjugate(ngvec_to_vec(dtn1_array[l+DtN_tol].vec))\n",
    "                    \n",
    "        #build vectors\n",
    "                    \n",
    "        dtn_vec1=np.conjugate(ngvec_to_vec(dtn1_array[l+DtN_tol].vec))\n",
    "        dtn_vec2=ngvec_to_vec(dtn1_array[l+DtN_tol].vec)\n",
    "                    \n",
    "        #rows of the column vector correspond to row values of the matrix - we want the i-th \n",
    "        #row to be associated with a fixed ϕ over which we compose u as a basis of all ϕ\n",
    "        dtn_mat += const_mat[l+DtN_tol]*(sp.csr_matrix(dtn_vec1).T*sp.csr_matrix(dtn_vec2))\n",
    "        #print(\"Updated matrix with dtn l=\" +str(l)+\" m=\" + str(m))\n",
    "    a.Assemble()\n",
    "    f.Assemble()\n",
    "    rhs_vec=ngvec_to_vec(f.vec)+2*np.pi*R*rhs_array\n",
    "    Amat=a.mat\n",
    "    rows2,cols2,vals2 = Amat.COO()\n",
    "    Asparse=sp.csr_matrix((vals2,(rows2,cols2)))\n",
    "    LHS=Asparse+2*np.pi*R*dtn_mat\n",
    "    return dtn_vec1\n",
    "    vec_sols=la.spsolve(LHS,rhs_vec)\n",
    "    gfu = GridFunction(fes)\n",
    "    vec_to_ngvec(vec_sols,gfu.vec.data)\n",
    "    FEMSoln = ConvertSolutiononMesh(mesh,mesh2.points,gfu)   "
   ]
  },
  {
   "cell_type": "code",
   "execution_count": 21,
   "metadata": {
    "scrolled": true
   },
   "outputs": [],
   "source": [
    "save=FEM(-1.1,2,5,15)"
   ]
  },
  {
   "cell_type": "code",
   "execution_count": 59,
   "metadata": {},
   "outputs": [],
   "source": [
    "fes = H1(mesh, order=2, complex=True)\n",
    "#prepare and populate linear/bilinear forms\n",
    "u, v = fes.TnT()\n",
    "a = BilinearForm(fes)\n",
    "f = LinearForm(fes)"
   ]
  },
  {
   "cell_type": "code",
   "execution_count": 60,
   "metadata": {},
   "outputs": [],
   "source": [
    "f+= v*1*ds('outer')"
   ]
  },
  {
   "cell_type": "code",
   "execution_count": 61,
   "metadata": {},
   "outputs": [
    {
     "data": {
      "text/plain": [
       "array([0.+0.j, 0.+0.j, 0.+0.j, ..., 0.+0.j, 0.+0.j, 0.+0.j])"
      ]
     },
     "execution_count": 61,
     "metadata": {},
     "output_type": "execute_result"
    }
   ],
   "source": [
    "ngvec_to_vec(f.vec)"
   ]
  },
  {
   "cell_type": "code",
   "execution_count": null,
   "metadata": {},
   "outputs": [],
   "source": [
    "mesh.GetB"
   ]
  }
 ],
 "metadata": {
  "kernelspec": {
   "display_name": "Python 3 (ipykernel)",
   "language": "python",
   "name": "python3"
  },
  "language_info": {
   "codemirror_mode": {
    "name": "ipython",
    "version": 3
   },
   "file_extension": ".py",
   "mimetype": "text/x-python",
   "name": "python",
   "nbconvert_exporter": "python",
   "pygments_lexer": "ipython3",
   "version": "3.8.12"
  }
 },
 "nbformat": 4,
 "nbformat_minor": 4
}
