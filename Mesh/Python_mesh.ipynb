{
 "cells": [
  {
   "cell_type": "code",
   "execution_count": 2,
   "metadata": {},
   "outputs": [
    {
     "name": "stdout",
     "output_type": "stream",
     "text": [
      "Collecting gmsh\n",
      "  Downloading gmsh-4.9.4-py2.py3-none-win_amd64.whl (38.1 MB)\n",
      "     --------------------------------------- 38.1/38.1 MB 38.6 MB/s eta 0:00:00\n",
      "Installing collected packages: gmsh\n",
      "Successfully installed gmsh-4.9.4\n",
      "Note: you may need to restart the kernel to use updated packages.\n"
     ]
    }
   ],
   "source": [
    "pip install gmsh"
   ]
  },
  {
   "cell_type": "code",
   "execution_count": 3,
   "metadata": {},
   "outputs": [],
   "source": [
    "import sys\n",
    "#edit below to include your directory as needed\n",
    "#sys.path.append(\"/Users/blatham/Hacktoberfest21\")\n",
    "#sys.path.append(\"/Library/Frameworks/Python.framework/Versions/3.8/lib/python3.8/site-packages\")\n",
    "import gmsh\n",
    "import numpy as np"
   ]
  },
  {
   "cell_type": "code",
   "execution_count": 4,
   "metadata": {},
   "outputs": [],
   "source": [
    "#begin Model\n",
    "gmsh.initialize()\n",
    "gmsh.model.add('clover_mesh')"
   ]
  },
  {
   "cell_type": "code",
   "execution_count": 5,
   "metadata": {},
   "outputs": [],
   "source": [
    "#Parameters\n",
    "h = 0.1\n",
    "l = 0\n",
    "L = 2\n",
    "delta = 0.5\n",
    "LL = L+ delta\n",
    "Angle1 = np.pi/4\n",
    "Angle2 = np.pi/6\n",
    "C = np.cos(Angle1)\n",
    "S = np.sin(Angle1)\n",
    "Cp = np.cos(Angle1 + Angle2)\n",
    "Cm = np.cos(Angle1 - Angle2)\n",
    "Sp = np.sin(Angle1 + Angle2)\n",
    "Sm = np.sin(Angle1 - Angle2)\n",
    "Cph = np.cos(Angle1 + 0.5 * Angle2)\n",
    "Cmh = np.cos(Angle1 - 0.5 * Angle2)\n",
    "Sph = np.sin(Angle1 + 0.5 * Angle2)\n",
    "Smh = np.sin(Angle1 - 0.5 * Angle2)\n",
    "Rx = np.abs(L*Cp - 0.5*L*(Cp+0.5*(Cp+Cm)))\n",
    "Ry = np.abs(L*Sp - 0.5*L*(Sp+0.5*(Sp+Sm)))\n",
    "R = np.sqrt(Rx**2 + Ry**2)\n",
    "InnerCircleRadius=0.3"
   ]
  },
  {
   "cell_type": "code",
   "execution_count": 6,
   "metadata": {},
   "outputs": [],
   "source": [
    "#Points\n",
    "Points=[]\n",
    "Points.append((l*Cp, l*Sp, 0, h))\n",
    "Points.append((L*Cp, L*Sp, 0, h))\n",
    "Points.append((0.5* L* (Cp+Cm), 0.5* L* (Sp+Sm), 0, h))\n",
    "#The below point is commented out in the original mesh - not sure if it is to be included.\n",
    "Points.append((l*Cm, l*Sm, 0, h))\n",
    "Points.append((L*Cm, L*Sm, 0, h))\n",
    "Points.append((0.5*L*(Cp+0.5*(Cp+Cm)), 0.5*L*(Sp+0.5*(Sp+Sm)), 0, h))\n",
    "Points.append((0.5*L*(Cm+0.5*(Cp+Cm)), 0.5*L*(Sm+0.5*(Sp+Sm)), 0, h))\n",
    "Points.append((0.5*L*(Cp+0.5*(Cp+Cm))+R*np.cos(np.pi/4), 0.5*L*(Sp+0.5*(Sp+Sm))+R*np.sin(np.pi/4), 0, h))\n",
    "Points.append((0.5*L*(Cm+0.5*(Cp+Cm))+R*np.cos(np.pi/4), 0.5*L*(Sm+0.5*(Sp+Sm))+R*np.sin(np.pi/4), 0, h))\n",
    "\n",
    "Points.append((InnerCircleRadius*Cp,InnerCircleRadius*Sp,0,h))\n",
    "Points.append((InnerCircleRadius*Cm,InnerCircleRadius*Sm,0,h))\n",
    "Points.append((InnerCircleRadius,0,0,h))\n",
    "Points.append((0,InnerCircleRadius,0,h))\n",
    "#Points.append((InnerCircleRadius*np.cos(np.pi/4),InnerCircleRadius*(np.cos(np.pi/4)),0,h))\n",
    "geoPoints= [gmsh.model.geo.addPoint(*p) for p in Points]"
   ]
  },
  {
   "cell_type": "code",
   "execution_count": 7,
   "metadata": {},
   "outputs": [
    {
     "data": {
      "text/plain": [
       "[1, 2, 3, 4, 5, 6, 7, 8, 9, 10, 11, 12, 13]"
      ]
     },
     "execution_count": 7,
     "metadata": {},
     "output_type": "execute_result"
    }
   ],
   "source": [
    "geoPoints"
   ]
  },
  {
   "cell_type": "code",
   "execution_count": 8,
   "metadata": {},
   "outputs": [],
   "source": [
    "#Lines\n",
    "Lines=[]\n",
    "Lines.append((10,2))\n",
    "Lines.append((11,5))\n",
    "#Lines.append((1,10))\n",
    "#Lines.append((1,11))\n",
    "Lines.append((1,12))\n",
    "Lines.append((1,13))\n",
    "geoLines=[gmsh.model.geo.addLine(*L) for L in Lines]"
   ]
  },
  {
   "cell_type": "code",
   "execution_count": 9,
   "metadata": {},
   "outputs": [],
   "source": [
    "#Circles\n",
    "Circles=[]\n",
    "Circles.append((2,6,8))\n",
    "Circles.append((8,6,3))\n",
    "Circles.append((3,7,9))\n",
    "Circles.append((9,7,5))\n",
    "Circles.append((12,1,11))\n",
    "Circles.append((10,1,13))\n",
    "\n",
    "geoCircles=[gmsh.model.geo.addCircleArc(*C) for C in Circles]"
   ]
  },
  {
   "cell_type": "code",
   "execution_count": 10,
   "metadata": {
    "scrolled": true
   },
   "outputs": [
    {
     "data": {
      "text/plain": [
       "array([1])"
      ]
     },
     "execution_count": 10,
     "metadata": {},
     "output_type": "execute_result"
    }
   ],
   "source": [
    "#loop and surface\n",
    "gmsh.model.geo.addCurveLoops((3,9,1,5,6,7,8,-2,10,-4))"
   ]
  },
  {
   "cell_type": "code",
   "execution_count": 11,
   "metadata": {
    "scrolled": true
   },
   "outputs": [
    {
     "data": {
      "text/plain": [
       "1"
      ]
     },
     "execution_count": 11,
     "metadata": {},
     "output_type": "execute_result"
    }
   ],
   "source": [
    "Surfaces=[]\n",
    "gmsh.model.geo.addPlaneSurface([1])"
   ]
  },
  {
   "cell_type": "code",
   "execution_count": 12,
   "metadata": {},
   "outputs": [],
   "source": [
    "Surfaces.append([(2,1)])\n",
    "Surfaces.append(gmsh.model.geo.copy([(2,1)]))\n",
    "gmsh.model.geo.symmetrize(Surfaces[1],1,0,0,0)\n",
    "Surfaces.append(gmsh.model.geo.copy([(2,1)]))\n",
    "gmsh.model.geo.symmetrize(Surfaces[2],0,1,0,0)\n",
    "Surfaces.append(gmsh.model.geo.copy([(2,1)]))\n",
    "gmsh.model.geo.symmetrize(Surfaces[3],1,1,0,0)"
   ]
  },
  {
   "cell_type": "code",
   "execution_count": 13,
   "metadata": {},
   "outputs": [
    {
     "data": {
      "text/plain": [
       "1"
      ]
     },
     "execution_count": 13,
     "metadata": {},
     "output_type": "execute_result"
    }
   ],
   "source": [
    "gmsh.model.geo.addSurfaceLoop((1,11,21,32))"
   ]
  },
  {
   "cell_type": "code",
   "execution_count": 14,
   "metadata": {},
   "outputs": [],
   "source": [
    "Interface=gmsh.model.geo.addPhysicalGroup(1,(9,2,8,7,6,5,-1,10,20,19,18,17,16,15,-14,13,41,40,39,38,37,36,-35,34,30,29,28,27,26,25,-24,23))\n",
    "gmsh.model.setPhysicalName(1,Interface,'Interface')"
   ]
  },
  {
   "cell_type": "code",
   "execution_count": 15,
   "metadata": {},
   "outputs": [],
   "source": [
    "clover=gmsh.model.geo.addPhysicalGroup(2,(1,11,21,32))\n",
    "gmsh.model.setPhysicalName(2,clover,'clover')"
   ]
  },
  {
   "cell_type": "code",
   "execution_count": 16,
   "metadata": {},
   "outputs": [],
   "source": [
    "externalpts=[]\n",
    "externalpts.append((3, 0, 0, h))\n",
    "externalpts.append((0, 3, 0, h))\n",
    "externalpts.append((-3, 0, 0, h))\n",
    "externalpts.append((0, -3, 0, h))\n",
    "geoexPoints= [gmsh.model.geo.addPoint(*p) for p in externalpts]"
   ]
  },
  {
   "cell_type": "code",
   "execution_count": 17,
   "metadata": {},
   "outputs": [
    {
     "data": {
      "text/plain": [
       "[124, 125, 126, 127]"
      ]
     },
     "execution_count": 17,
     "metadata": {},
     "output_type": "execute_result"
    }
   ],
   "source": [
    "geoexPoints"
   ]
  },
  {
   "cell_type": "code",
   "execution_count": 18,
   "metadata": {},
   "outputs": [],
   "source": [
    "outercircle=[]\n",
    "outercircle.append((geoexPoints[0],1,geoexPoints[1]))\n",
    "outercircle.append((geoexPoints[1],1,geoexPoints[2]))\n",
    "outercircle.append((geoexPoints[2],1,geoexPoints[3]))\n",
    "outercircle.append((geoexPoints[3],1,geoexPoints[0]))\n",
    "geoouterCircles=[gmsh.model.geo.addCircleArc(*C) for C in outercircle]"
   ]
  },
  {
   "cell_type": "code",
   "execution_count": 19,
   "metadata": {},
   "outputs": [
    {
     "data": {
      "text/plain": [
       "[42, 43, 44, 45]"
      ]
     },
     "execution_count": 19,
     "metadata": {},
     "output_type": "execute_result"
    }
   ],
   "source": [
    "geoouterCircles"
   ]
  },
  {
   "cell_type": "code",
   "execution_count": 20,
   "metadata": {
    "scrolled": true
   },
   "outputs": [
    {
     "data": {
      "text/plain": [
       "array([2])"
      ]
     },
     "execution_count": 20,
     "metadata": {},
     "output_type": "execute_result"
    }
   ],
   "source": [
    "gmsh.model.geo.addCurveLoops(geoouterCircles)"
   ]
  },
  {
   "cell_type": "code",
   "execution_count": 21,
   "metadata": {},
   "outputs": [
    {
     "data": {
      "text/plain": [
       "array([3])"
      ]
     },
     "execution_count": 21,
     "metadata": {},
     "output_type": "execute_result"
    }
   ],
   "source": [
    "gmsh.model.geo.addCurveLoops((9,2,8,7,6,5,-1,10,20,19,18,17,16,15,-14,13,41,40,39,38,37,36,-35,34,30,29,28,27,26,25,-24,23))"
   ]
  },
  {
   "cell_type": "code",
   "execution_count": 22,
   "metadata": {},
   "outputs": [
    {
     "data": {
      "text/plain": [
       "33"
      ]
     },
     "execution_count": 22,
     "metadata": {},
     "output_type": "execute_result"
    }
   ],
   "source": [
    "gmsh.model.geo.addPlaneSurface([2,3])"
   ]
  },
  {
   "cell_type": "code",
   "execution_count": 23,
   "metadata": {},
   "outputs": [],
   "source": [
    "Boundary=gmsh.model.geo.addPhysicalGroup(1,geoouterCircles)\n",
    "gmsh.model.setPhysicalName(1,Boundary,'Boundary')"
   ]
  },
  {
   "cell_type": "code",
   "execution_count": 24,
   "metadata": {},
   "outputs": [],
   "source": [
    "Vacuum=gmsh.model.geo.addPhysicalGroup(2,[33])\n",
    "gmsh.model.setPhysicalName(2,Vacuum,'Vacuum')"
   ]
  },
  {
   "cell_type": "code",
   "execution_count": 25,
   "metadata": {},
   "outputs": [],
   "source": [
    "gmsh.model.geo.synchronize()"
   ]
  },
  {
   "cell_type": "code",
   "execution_count": 26,
   "metadata": {
    "scrolled": true
   },
   "outputs": [],
   "source": [
    "#meshing\n",
    "gmsh.model.mesh.generate(2)\n",
    "gmsh.option.setNumber(\"Mesh.MshFileVersion\",2.2)\n",
    "\n",
    "gmsh.write('clover_mesh.msh')"
   ]
  },
  {
   "cell_type": "code",
   "execution_count": 27,
   "metadata": {
    "code_folding": [],
    "scrolled": true
   },
   "outputs": [],
   "source": [
    "#optional gui cell to see mesh, uncomment if wanted\n",
    "#gmsh.fltk.run()"
   ]
  },
  {
   "cell_type": "code",
   "execution_count": 28,
   "metadata": {},
   "outputs": [],
   "source": [
    "#closing\n",
    "\n",
    "gmsh.finalize()"
   ]
  }
 ],
 "metadata": {
  "kernelspec": {
   "display_name": "Python 3 (ipykernel)",
   "language": "python",
   "name": "python3"
  },
  "language_info": {
   "codemirror_mode": {
    "name": "ipython",
    "version": 3
   },
   "file_extension": ".py",
   "mimetype": "text/x-python",
   "name": "python",
   "nbconvert_exporter": "python",
   "pygments_lexer": "ipython3",
   "version": "3.8.12"
  }
 },
 "nbformat": 4,
 "nbformat_minor": 4
}
